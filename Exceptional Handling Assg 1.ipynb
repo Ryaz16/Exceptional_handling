{
 "cells": [
  {
   "attachments": {},
   "cell_type": "markdown",
   "metadata": {},
   "source": [
    "Q1. What is an Exception in python? Write the difference between Exception And syntax errors"
   ]
  },
  {
   "attachments": {},
   "cell_type": "markdown",
   "metadata": {},
   "source": [
    "Exception is a condition that interrupts the normal flow of the program\n",
    "\n",
    "\n",
    "Difference between Exception And syntax errors\n",
    "\n",
    "Exceptions are runtime errors or exceptional conditions that occur during program execution and can be caught and handled.\n",
    "\n",
    " syntax errors are detected by the Python interpreter before the program starts running and need to be fixed in the code."
   ]
  },
  {
   "attachments": {},
   "cell_type": "markdown",
   "metadata": {},
   "source": [
    "Q2 what happens when an exception is not handled? \n",
    "\n",
    "The runtime system will abort the program  and an exception message will print to the console."
   ]
  },
  {
   "attachments": {},
   "cell_type": "markdown",
   "metadata": {},
   "source": [
    "Q3. Which Python statements are used to catch and handle exceptions?\n",
    "\n",
    "try, except, else, raise, finally are the python exceptional use to handle the exceptions"
   ]
  },
  {
   "cell_type": "code",
   "execution_count": 4,
   "metadata": {},
   "outputs": [
    {
     "name": "stdout",
     "output_type": "stream",
     "text": [
      "this is an error \n",
      "on other find an excution\n"
     ]
    }
   ],
   "source": [
    "try :\n",
    "    int(\"ryaz\")\n",
    "except ValueError as e:\n",
    "    print(\"this is an error \")\n",
    "else:\n",
    "    print(\"find error\")  \n",
    "finally:\n",
    "    print(\"on other find an excution\")          \n",
    "    "
   ]
  },
  {
   "cell_type": "code",
   "execution_count": 5,
   "metadata": {},
   "outputs": [
    {
     "name": "stdout",
     "output_type": "stream",
     "text": [
      " fit\n"
     ]
    }
   ],
   "source": [
    "height  = 5.10\n",
    "if height <= 5:\n",
    "    raise ValueError(\"this is shotter than me\")\n",
    "else:\n",
    "    print(\" fit\")\n"
   ]
  },
  {
   "attachments": {},
   "cell_type": "markdown",
   "metadata": {},
   "source": [
    "Q4. Explain with an example:\n",
    "  a. try and else\n",
    "  b. finally\n",
    "  c. raise"
   ]
  },
  {
   "cell_type": "code",
   "execution_count": 6,
   "metadata": {},
   "outputs": [
    {
     "name": "stdout",
     "output_type": "stream",
     "text": [
      "we find an error\n"
     ]
    }
   ],
   "source": [
    "try: \n",
    "    file = open(\"file.txt\" , \"r\")\n",
    "    file.write(\"this is my first file\")\n",
    "except Exception as e:\n",
    "    print(\"we find an error\")\n",
    "else:\n",
    "    print(\"this is my last step\")        "
   ]
  },
  {
   "cell_type": "code",
   "execution_count": 7,
   "metadata": {},
   "outputs": [
    {
     "name": "stdout",
     "output_type": "stream",
     "text": [
      "this is my end\n"
     ]
    }
   ],
   "source": [
    "# Finally are the block which is always executed\n",
    "try:\n",
    "\n",
    "    f = open(\"beig.txt\" , \"w\")\n",
    "    f.write(\"practise in exception\")\n",
    "\n",
    "finally:\n",
    "    print(\"this is my end\")  "
   ]
  },
  {
   "attachments": {},
   "cell_type": "markdown",
   "metadata": {},
   "source": [
    "Q5. what are Custom Exception in python? \n",
    "\n",
    "Create  a class need to handle several distinct error)"
   ]
  },
  {
   "attachments": {},
   "cell_type": "markdown",
   "metadata": {},
   "source": [
    "why do we need Custom Exception? explain with an example.\n",
    "\n",
    "To improve readability of your code.\n",
    "To enhance reusability of features.\n",
    "To provide custom messages/instructions to users for specific use cases.\n"
   ]
  },
  {
   "attachments": {},
   "cell_type": "markdown",
   "metadata": {},
   "source": [
    "Q6. Create a Custom  Exception Class. Use this class to handle an exception "
   ]
  },
  {
   "cell_type": "code",
   "execution_count": 8,
   "metadata": {},
   "outputs": [],
   "source": [
    "class Createria(Exception):\n",
    "\n",
    "    def __init__(self,msg):\n",
    "        self.msg = msg"
   ]
  },
  {
   "cell_type": "code",
   "execution_count": 9,
   "metadata": {},
   "outputs": [],
   "source": [
    "def validateage(age):\n",
    "    if age < 0:\n",
    "        raise Createria(\"enter age is negative\")\n",
    "    elif age > 200:\n",
    "        raise Createria(\"enter age is above\")\n",
    "    else:\n",
    "        print(\"age is valid\")"
   ]
  },
  {
   "cell_type": "code",
   "execution_count": 10,
   "metadata": {},
   "outputs": [
    {
     "name": "stdout",
     "output_type": "stream",
     "text": [
      "age is valid\n"
     ]
    }
   ],
   "source": [
    "try:\n",
    "    age = int(input(\"enter ur age \"))\n",
    "    validateage(age)\n",
    "except Createria as e:\n",
    "    print(e)    "
   ]
  }
 ],
 "metadata": {
  "kernelspec": {
   "display_name": "Python 3",
   "language": "python",
   "name": "python3"
  },
  "language_info": {
   "codemirror_mode": {
    "name": "ipython",
    "version": 3
   },
   "file_extension": ".py",
   "mimetype": "text/x-python",
   "name": "python",
   "nbconvert_exporter": "python",
   "pygments_lexer": "ipython3",
   "version": "3.11.3"
  },
  "orig_nbformat": 4
 },
 "nbformat": 4,
 "nbformat_minor": 2
}

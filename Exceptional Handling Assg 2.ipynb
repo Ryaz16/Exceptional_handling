{
 "cells": [
  {
   "attachments": {},
   "cell_type": "markdown",
   "metadata": {},
   "source": [
    "Q1. Explain why we have to use the Exception class while creating a Custom Exception.\n",
    "\n",
    "Built-in exceptions offer information about Python-related problems, and custom exceptions will add information about project-related problems. That way, you can design your code in a way that combines Python code with the language of the project"
   ]
  },
  {
   "attachments": {},
   "cell_type": "markdown",
   "metadata": {},
   "source": [
    "Q2. What errors are defined in the ArithmeticError class? Explain any two with an example.\n",
    "\n",
    "When we write a code and it's an error in a numerical calculation then we get a Arithmetics Error\n",
    "\n",
    "1. ZeroDivisionError\n",
    "2. OverflowError    "
   ]
  },
  {
   "cell_type": "code",
   "execution_count": 6,
   "metadata": {},
   "outputs": [
    {
     "name": "stdout",
     "output_type": "stream",
     "text": [
      "division by zero\n",
      "inf\n"
     ]
    }
   ],
   "source": [
    "#ZeroDivisionError\n",
    "\n",
    "try:\n",
    "    55 / 0 \n",
    "except ZeroDivisionError as e:\n",
    "    print(e)    \n",
    "\n",
    "\n",
    "#OverflowError  \n",
    "\n",
    "import sys\n",
    "\n",
    "number = sys.float_info.max\n",
    "r = number*2\n",
    "\n",
    "print(r)"
   ]
  },
  {
   "attachments": {},
   "cell_type": "markdown",
   "metadata": {},
   "source": [
    "Q3. Why LookupError class is used? Explain with an example KeyError and IndexError.\n",
    "\n",
    "All exceptions that are raised when an index or a key is not found "
   ]
  },
  {
   "attachments": {},
   "cell_type": "markdown",
   "metadata": {},
   "source": [
    "Q4. Explain ImportError. What is ModuleNotFoundError?\n",
    "\n",
    "When the Python program tries to import module which does not exist in the private table.\n",
    "\n",
    "What is ModuleNotFoundError? - this error occurs when you're trying to access or use a module that cannot be found."
   ]
  },
  {
   "attachments": {},
   "cell_type": "markdown",
   "metadata": {},
   "source": [
    "Q5. List down some best practices for exception handling in python."
   ]
  },
  {
   "cell_type": "code",
   "execution_count": 1,
   "metadata": {},
   "outputs": [],
   "source": [
    "# ZeroDivisionError\n",
    "# FileNotFoundError\n",
    "# IndexError\n",
    "# TypeError\n",
    "# AttributeError\n",
    "# ArithmeticError\n",
    "# ImportError\n",
    "# KeyError\n"
   ]
  },
  {
   "attachments": {},
   "cell_type": "markdown",
   "metadata": {},
   "source": []
  }
 ],
 "metadata": {
  "kernelspec": {
   "display_name": "Python 3",
   "language": "python",
   "name": "python3"
  },
  "language_info": {
   "codemirror_mode": {
    "name": "ipython",
    "version": 3
   },
   "file_extension": ".py",
   "mimetype": "text/x-python",
   "name": "python",
   "nbconvert_exporter": "python",
   "pygments_lexer": "ipython3",
   "version": "3.11.3"
  },
  "orig_nbformat": 4
 },
 "nbformat": 4,
 "nbformat_minor": 2
}
